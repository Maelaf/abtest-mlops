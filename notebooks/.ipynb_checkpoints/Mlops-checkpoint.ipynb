{
 "cells": [
  {
   "cell_type": "code",
   "execution_count": null,
   "id": "14852f7e",
   "metadata": {},
   "outputs": [],
   "source": []
  },
  {
   "cell_type": "code",
   "execution_count": null,
   "id": "aa1a7c3e",
   "metadata": {},
   "outputs": [],
   "source": []
  },
  {
   "cell_type": "code",
   "execution_count": null,
   "id": "7173394a",
   "metadata": {},
   "outputs": [],
   "source": []
  },
  {
   "cell_type": "code",
   "execution_count": null,
   "id": "5c43b8be",
   "metadata": {},
   "outputs": [],
   "source": []
  },
  {
   "cell_type": "code",
   "execution_count": null,
   "id": "80c9817b",
   "metadata": {},
   "outputs": [],
   "source": []
  },
  {
   "cell_type": "code",
   "execution_count": null,
   "id": "87132721",
   "metadata": {},
   "outputs": [],
   "source": []
  },
  {
   "cell_type": "code",
   "execution_count": null,
   "id": "92d656bb",
   "metadata": {},
   "outputs": [],
   "source": []
  },
  {
   "cell_type": "code",
   "execution_count": null,
   "id": "24bbbfed",
   "metadata": {},
   "outputs": [],
   "source": []
  },
  {
   "cell_type": "code",
   "execution_count": null,
   "id": "1f0f94fd",
   "metadata": {},
   "outputs": [],
   "source": []
  },
  {
   "cell_type": "code",
   "execution_count": null,
   "id": "77fdddbd",
   "metadata": {},
   "outputs": [],
   "source": [
    "import mlflow\n",
    "import datetime\n",
    "Current_Date = datetime.datetime.today()\n",
    "\n",
    "mlflow.set_experiment('ML_Approach_ABTEST-' + str(Current_Date))"
   ]
  },
  {
   "cell_type": "code",
   "execution_count": null,
   "id": "c96f7324",
   "metadata": {},
   "outputs": [],
   "source": [
    "# feature_cols = [\"experiment\", \"hour\", \"date\", 'device_make', \"platform_os\",  \"browser\"]\n",
    "feature_cols = [\"experiment\", \"hour\", \"date\", 'device_make', 'browser']\n",
    "\n",
    "X = browser_df[feature_cols]\n",
    "y = browser_df[['aware']]\n",
    "\n",
    "test_size = 0.1\n",
    "\n",
    "X_train, X_test, y_train, y_test = train_test_split(X, y, test_size=test_size, random_state=42)"
   ]
  },
  {
   "cell_type": "code",
   "execution_count": null,
   "id": "f5a85912",
   "metadata": {},
   "outputs": [],
   "source": [
    "\n",
    "decisionTreesModel = DecisionTreesModel(X_train, X_test,  y_train, y_test)\n",
    "\n",
    "folds = 5\n",
    "clf, acc_arr, loss_arr = decisionTreesModel.train(folds)\n",
    "\n",
    "write_model('browser_decision_tree_model', clf)"
   ]
  },
  {
   "cell_type": "code",
   "execution_count": null,
   "id": "92e2121e",
   "metadata": {},
   "outputs": [],
   "source": [
    "\n",
    "test_acc, loss, report, confusion_matrix = decisionTreesModel.test()\n",
    "print(f\"Loss on test data is: {loss:.3f}\")\n",
    "print()\n"
   ]
  },
  {
   "cell_type": "code",
   "execution_count": null,
   "id": "2e19901f",
   "metadata": {},
   "outputs": [],
   "source": [
    "decisionTreesModel.get_feature_importance()"
   ]
  },
  {
   "cell_type": "code",
   "execution_count": null,
   "id": "7ded5e27",
   "metadata": {},
   "outputs": [],
   "source": [
    "\n",
    "test_acc, loss, report, confusion_matrix = decisionTreesModel.test()\n",
    "print(f\"Loss on test data is: {loss:.3f}\")\n",
    "print()\n"
   ]
  },
  {
   "cell_type": "code",
   "execution_count": null,
   "id": "191f0552",
   "metadata": {},
   "outputs": [],
   "source": [
    "decisionTreesModel.get_feature_importance()"
   ]
  },
  {
   "cell_type": "code",
   "execution_count": null,
   "id": "767e3978",
   "metadata": {},
   "outputs": [],
   "source": [
    "dot_data = StringIO()\n",
    "\n",
    "leaves_parallel=False\n",
    "feature_cols = [\"experiment\", \"hour\", \"date\", 'device_make', 'browser']\n",
    "out_put_file = \"AbTestDecisionTree.dot\"\n",
    "\n",
    "dot_data = export_graphviz(clf, out_file=out_put_file,  \n",
    "                filled=True, rounded=True,\n",
    "                special_characters=True, feature_names = feature_cols,class_names=['Aware','Not Aware'])\n",
    "\n",
    "graph = pydotplus.graphviz.graph_from_dot_file(out_put_file)\n",
    "graph.write_png('AbTestDecisionTree.png')\n",
    "\n",
    "Image(graph.create_png())\n"
   ]
  },
  {
   "cell_type": "code",
   "execution_count": null,
   "id": "ce6d5b8e",
   "metadata": {},
   "outputs": [],
   "source": [
    "mlflow.end_run()\n",
    "with mlflow.start_run(run_name=\"Browser-DF-DecisionTree\"):\n",
    "    mlflow.log_param('Features', X_train.columns.to_list())\n",
    "    mlflow.log_param('Target', y_train.columns.to_list())\n",
    "    mlflow.log_param('Number Of Training Dataset', X_train.shape[0])\n",
    "    mlflow.log_param('Number Of Test Dataset', X_test.shape[0])\n",
    "    mlflow.log_param('Fold number', folds)\n",
    "    \n",
    "    mlflow.log_metric('Validation Accuray', acc_arr[-1])\n",
    "    mlflow.log_metric('Validation Loss', loss_arr[-1])\n",
    "    mlflow.log_metric('Test accuracy', test_acc)\n",
    "    mlflow.log_metric('Test Loss MSE', loss)\n",
    "    \n",
    "#     mlflow.log_figure(\"../AbTestDecisionTree.png\", 'fig.png')"
   ]
  },
  {
   "cell_type": "code",
   "execution_count": null,
   "id": "95880bbd",
   "metadata": {},
   "outputs": [],
   "source": []
  },
  {
   "cell_type": "code",
   "execution_count": null,
   "id": "268dc24b",
   "metadata": {},
   "outputs": [],
   "source": []
  },
  {
   "cell_type": "code",
   "execution_count": null,
   "id": "fb257f3e",
   "metadata": {},
   "outputs": [],
   "source": []
  },
  {
   "cell_type": "code",
   "execution_count": null,
   "id": "5560d612",
   "metadata": {},
   "outputs": [],
   "source": []
  },
  {
   "cell_type": "code",
   "execution_count": null,
   "id": "7067b069",
   "metadata": {},
   "outputs": [],
   "source": []
  },
  {
   "cell_type": "code",
   "execution_count": null,
   "id": "7bf1d125",
   "metadata": {},
   "outputs": [],
   "source": []
  },
  {
   "cell_type": "code",
   "execution_count": null,
   "id": "d96643da",
   "metadata": {},
   "outputs": [],
   "source": [
    "# feature_cols = [\"experiment\", \"hour\", \"date\", 'device_make', \"platform_os\",  \"browser\"]\n",
    "feature_cols = [\"experiment\", \"hour\", \"date\", 'device_make', 'platform_os']\n",
    "\n",
    "X = platform_df[feature_cols]\n",
    "y = platform_df[['aware']]\n",
    "\n",
    "test_size = 0.1\n",
    "\n",
    "X_train, X_test, y_train, y_test = train_test_split(X, y, test_size=test_size, random_state=42)"
   ]
  },
  {
   "cell_type": "code",
   "execution_count": null,
   "id": "4afee92a",
   "metadata": {},
   "outputs": [],
   "source": [
    "decisionTreesModel = DecisionTreesModel(X_train, X_test,  y_train, y_test)\n",
    "\n",
    "folds = 5\n",
    "clf, acc_arr, loss_arr = decisionTreesModel.train(folds)\n",
    "\n",
    "write_model('platform_os_decision_tree_model', clf)"
   ]
  },
  {
   "cell_type": "code",
   "execution_count": null,
   "id": "e4f845ef",
   "metadata": {},
   "outputs": [],
   "source": [
    "test_acc, loss, report, confusion_matrix = decisionTreesModel.test()\n",
    "print(f\"Loss on test data is: {loss:.3f}\")\n",
    "print()"
   ]
  },
  {
   "cell_type": "code",
   "execution_count": null,
   "id": "0384b6f4",
   "metadata": {},
   "outputs": [],
   "source": [
    "decisionTreesModel.get_feature_importance()"
   ]
  },
  {
   "cell_type": "code",
   "execution_count": null,
   "id": "c57622bc",
   "metadata": {},
   "outputs": [],
   "source": [
    "dot_data = StringIO()\n",
    "\n",
    "leaves_parallel=False\n",
    "feature_cols = [\"experiment\", \"hour\", \"date\", 'device_make', 'browser']\n",
    "out_put_file = \"AbTestDecisionTree.dot\"\n",
    "\n",
    "dot_data = export_graphviz(clf, out_file=out_put_file,  \n",
    "                filled=True, rounded=True,\n",
    "                special_characters=True, feature_names = feature_cols,class_names=['Aware','Not Aware'])\n",
    "\n",
    "graph = pydotplus.graphviz.graph_from_dot_file(out_put_file)\n",
    "graph.write_png('AbTestDecisionTree.png')\n",
    "Image(graph.create_png())"
   ]
  },
  {
   "cell_type": "code",
   "execution_count": null,
   "id": "82756cb8",
   "metadata": {},
   "outputs": [],
   "source": [
    "mlflow.end_run()\n",
    "with mlflow.start_run(run_name=\"Platform-DF-DecisionTree\"):\n",
    "    mlflow.log_param('Features', X_train.columns.to_list())\n",
    "    mlflow.log_param('Target', y_train.columns.to_list())\n",
    "    mlflow.log_param('Number Of Training Dataset', X_train.shape[0])\n",
    "    mlflow.log_param('Number Of Test Dataset', X_test.shape[0])\n",
    "    mlflow.log_param('Fold number', folds)\n",
    "    \n",
    "    mlflow.log_metric('Validation Accuray', acc_arr[-1])\n",
    "    mlflow.log_metric('Validation Loss', loss_arr[-1])\n",
    "    mlflow.log_metric('Test accuracy', test_acc)\n",
    "    mlflow.log_metric('Test Loss MSE', loss)\n",
    "    \n",
    "#     mlflow.log_figure(graph.create_png(), 'fig.png')"
   ]
  },
  {
   "cell_type": "code",
   "execution_count": null,
   "id": "1a435dee",
   "metadata": {},
   "outputs": [],
   "source": [
    "class LogesticRegressionModel:\n",
    "    \n",
    "    def __init__(self, X_train, X_test, y_train, y_test, model_name=\"LR\"):\n",
    "        \n",
    "        self.X_train = X_train\n",
    "        self.X_test = X_test\n",
    "        self.y_train = y_train\n",
    "        self.y_test = y_test\n",
    "        self.model_name = model_name\n",
    "        \n",
    "        self.clf = LogisticRegression()\n",
    "        \n",
    "    def train(self, folds=1):\n",
    "        \n",
    "        kf = KFold(n_splits = folds)\n",
    "        \n",
    "        iterator = kf.split(self.X_train)\n",
    "        \n",
    "        loss_arr = []\n",
    "        acc_arr = []\n",
    "        model_name= self.model_name\n",
    "        mlflow.end_run()\n",
    "        for i in range(folds):\n",
    "\n",
    "            train_index, valid_index = next(iterator)\n",
    "\n",
    "            X_train, y_train = self.X_train.iloc[train_index], self.y_train.iloc[train_index]\n",
    "            X_valid, y_valid = self.X_train.iloc[valid_index], self.y_train.iloc[valid_index]\n",
    "\n",
    "            self.clf = self.clf.fit(X_train, y_train)\n",
    "\n",
    "            vali_pred = self.clf.predict(X_valid)\n",
    "\n",
    "            accuracy = self.calculate_score(y_valid, vali_pred)\n",
    "            loss = loss_function(y_valid, vali_pred)\n",
    "\n",
    "            self.__printAccuracy(accuracy, i, label=\"Validation\")\n",
    "            self.__printLoss(loss, i, label=\"Validation\")\n",
    "            print()\n",
    "\n",
    "            acc_arr.append(accuracy)\n",
    "            loss_arr.append(loss)\n",
    "            \n",
    "        return self.clf, acc_arr, loss_arr\n",
    "    \n",
    "    def test(self):\n",
    "        y_pred = self.clf.predict(self.X_test)\n",
    "        \n",
    "        accuracy = self.calculate_score(self.y_test, y_pred)\n",
    "        self.__printAccuracy(accuracy, label=\"Test\")\n",
    "        \n",
    "        report = self.report(y_pred, self.y_test)\n",
    "        matrix = self.confusion_matrix(y_pred, self.y_test)\n",
    "        loss = loss_function(self.y_test, y_pred)\n",
    "        \n",
    "        return accuracy, loss, report, matrix \n",
    "    \n",
    "    def __printAccuracy(self, acc, step=1, label=\"\"):\n",
    "        print(f\"step {step}: {label} Accuracy of LogesticRegression is: {acc:.3f}\")\n",
    "    \n",
    "    def __printLoss(self, loss, step=1, label=\"\"):\n",
    "        print(f\"step {step}: {label} Loss of LogesticRegression is: {loss:.3f}\")\n",
    "    \n",
    "    def calculate_score(self, pred, actual):\n",
    "        return metrics.accuracy_score(actual, pred)\n",
    "    \n",
    "    def report(self, pred, actual):\n",
    "        print(\"Test Metrics\")\n",
    "        print(\"================\")\n",
    "        print(metrics.classification_report(pred, actual))\n",
    "        return metrics.classification_report(pred, actual)\n",
    "    \n",
    "    def confusion_matrix(self, pred, actual):\n",
    "        ax=sns.heatmap(pd.DataFrame(metrics.confusion_matrix(pred, actual)))\n",
    "        plt.title('Confusion matrix')\n",
    "        plt.ylabel('Actual')\n",
    "        plt.xlabel('Predicted')\n",
    "        return metrics.confusion_matrix(pred, actual)\n",
    "    \n",
    "    def get_p_values(self):\n",
    "        \"\"\" \n",
    "        Calcualting p_values for logestic regression.\n",
    "        code refered from the following link\n",
    "        https://gist.github.com/rspeare/77061e6e317896be29c6de9a85db301d\n",
    "        \n",
    "        \"\"\"\n",
    "        denom = (2.0*(1.0+np.cosh(self.clf.decision_function(X))))\n",
    "        denom = np.tile(denom,(X.shape[1],1)).T\n",
    "        F_ij = np.dot((X/denom).T,X) ## Fisher Information Matrix\n",
    "        Cramer_Rao = np.linalg.inv(F_ij) ## Inverse Information Matrix\n",
    "        sigma_estimates = np.sqrt(np.diagonal(Cramer_Rao))\n",
    "        z_scores = self.clf.coef_[0]/sigma_estimates # z-score \n",
    "        p_values = [stat.norm.sf(abs(x)) for x in z_scores] ### two tailed test for p-values\n",
    "        \n",
    "        p_df = pd.DataFrame()\n",
    "        p_df['features'] = self.X_train.columns.to_list()\n",
    "        p_df['p_values'] = p_values\n",
    "        \n",
    "        return p_df\n",
    "    \n",
    "    def plot_pvalues(self, p_df):\n",
    "        \n",
    "        fig, ax = plt.subplots(figsize=(12,7))\n",
    "\n",
    "        ax.plot([0.05,0.05], [0.05,5])\n",
    "        sns.scatterplot(data=p_df, y='features', x='p_values', color=\"green\")\n",
    "        plt.title(\"P values of features\", size=20)\n",
    "\n",
    "        plt.xticks(np.arange(0,max(p_df['p_values']) + 0.05, 0.05))\n",
    "\n",
    "        plt.xticks(fontsize=12)\n",
    "        plt.yticks(fontsize=12)\n",
    "\n",
    "        plt.show()\n",
    "        return fig"
   ]
  },
  {
   "cell_type": "code",
   "execution_count": null,
   "id": "976b1379",
   "metadata": {},
   "outputs": [],
   "source": []
  },
  {
   "cell_type": "code",
   "execution_count": null,
   "id": "40081c5a",
   "metadata": {},
   "outputs": [],
   "source": []
  },
  {
   "cell_type": "code",
   "execution_count": null,
   "id": "e92bfcff",
   "metadata": {},
   "outputs": [],
   "source": []
  },
  {
   "cell_type": "code",
   "execution_count": null,
   "id": "71f0e446",
   "metadata": {},
   "outputs": [],
   "source": []
  },
  {
   "cell_type": "code",
   "execution_count": null,
   "id": "704362e9",
   "metadata": {},
   "outputs": [],
   "source": []
  },
  {
   "cell_type": "code",
   "execution_count": null,
   "id": "7929d4cb",
   "metadata": {},
   "outputs": [],
   "source": []
  },
  {
   "cell_type": "code",
   "execution_count": null,
   "id": "fe539d23",
   "metadata": {},
   "outputs": [],
   "source": []
  },
  {
   "cell_type": "code",
   "execution_count": null,
   "id": "af9daa96",
   "metadata": {},
   "outputs": [],
   "source": []
  },
  {
   "cell_type": "code",
   "execution_count": null,
   "id": "7107d5d0",
   "metadata": {},
   "outputs": [],
   "source": []
  },
  {
   "cell_type": "code",
   "execution_count": null,
   "id": "4e708e9d",
   "metadata": {},
   "outputs": [],
   "source": []
  },
  {
   "cell_type": "code",
   "execution_count": null,
   "id": "bde121ad",
   "metadata": {},
   "outputs": [],
   "source": []
  },
  {
   "cell_type": "code",
   "execution_count": null,
   "id": "ace03e20",
   "metadata": {},
   "outputs": [],
   "source": []
  },
  {
   "cell_type": "code",
   "execution_count": null,
   "id": "ae41abc9",
   "metadata": {},
   "outputs": [],
   "source": []
  },
  {
   "cell_type": "code",
   "execution_count": null,
   "id": "b35b2d4f",
   "metadata": {},
   "outputs": [],
   "source": []
  },
  {
   "cell_type": "code",
   "execution_count": null,
   "id": "1641d0f8",
   "metadata": {},
   "outputs": [],
   "source": []
  },
  {
   "cell_type": "code",
   "execution_count": null,
   "id": "4bd07643",
   "metadata": {},
   "outputs": [],
   "source": []
  },
  {
   "cell_type": "code",
   "execution_count": null,
   "id": "3c3e085a",
   "metadata": {},
   "outputs": [],
   "source": []
  },
  {
   "cell_type": "code",
   "execution_count": null,
   "id": "7e6e763b",
   "metadata": {},
   "outputs": [],
   "source": [
    "feature_cols = [\"experiment\", \"hour\", \"date\", 'device_make', 'browser']\n",
    "\n",
    "X = browser_df[feature_cols]\n",
    "y = browser_df[['aware']]\n",
    "\n",
    "test_size = 0.1\n",
    "\n",
    "X_train, X_test, y_train, y_test = train_test_split(X, y, test_size=test_size, random_state=42)"
   ]
  },
  {
   "cell_type": "code",
   "execution_count": null,
   "id": "f8366ff0",
   "metadata": {},
   "outputs": [],
   "source": [
    "logesticRegressionModel = LogesticRegressionModel(X_train, X_test,  y_train, y_test)\n",
    "\n",
    "folds = 5\n",
    "clf2, loss_arr_2, acc_arr_2 = logesticRegressionModel.train(folds)\n",
    "\n",
    "write_model('browser_Logestic_Reg_model', clf2)\n"
   ]
  },
  {
   "cell_type": "code",
   "execution_count": null,
   "id": "155e7d2f",
   "metadata": {},
   "outputs": [],
   "source": [
    "test_acc2, test_loss2, report2, matrix2  = logesticRegressionModel.test()"
   ]
  },
  {
   "cell_type": "code",
   "execution_count": null,
   "id": "3378e9e0",
   "metadata": {},
   "outputs": [],
   "source": [
    "\n",
    "p_values_df = logesticRegressionModel.get_p_values()\n",
    "p_value_fig = logesticRegressionModel.plot_pvalues(p_values_df)\n",
    "p_values_df\n"
   ]
  },
  {
   "cell_type": "code",
   "execution_count": null,
   "id": "ac9aac8c",
   "metadata": {},
   "outputs": [],
   "source": [
    "\n",
    "mlflow.end_run()\n",
    "with mlflow.start_run(run_name=\"Browser-DF-Logestic-Reg\"):\n",
    "    mlflow.log_param('Features', X_train.columns.to_list())\n",
    "    mlflow.log_param('Target', y_train.columns.to_list())\n",
    "    mlflow.log_param('Number Of Training Dataset', X_train.shape[0])\n",
    "    mlflow.log_param('Number Of Test Dataset', X_test.shape[0])\n",
    "    mlflow.log_param('Fold number', folds)\n",
    "    \n",
    "    mlflow.log_metric('Validation Accuray', acc_arr_2[-1])\n",
    "    mlflow.log_metric('Validation Loss', acc_arr_2[-1])\n",
    "    mlflow.log_metric('Test accuracy', test_acc2)\n",
    "    mlflow.log_metric('Test Loss MSE', test_loss2)\n",
    "    \n",
    "    mlflow.log_figure(p_value_fig, 'fig.png')\n",
    "\n",
    "\n",
    "    "
   ]
  },
  {
   "cell_type": "code",
   "execution_count": null,
   "id": "206177ba",
   "metadata": {},
   "outputs": [],
   "source": [
    "feature_cols = [\"experiment\", \"hour\", \"date\", 'device_make', 'platform_os']\n",
    "\n",
    "X = platform_df[feature_cols]\n",
    "y = platform_df[['aware']]\n",
    "\n",
    "test_size = 0.1\n",
    "\n",
    "X_train, X_test, y_train, y_test = train_test_split(X, y, test_size=test_size, random_state=42)"
   ]
  },
  {
   "cell_type": "code",
   "execution_count": null,
   "id": "9cfd1888",
   "metadata": {},
   "outputs": [],
   "source": [
    "logesticRegressionModel = LogesticRegressionModel(X_train, X_test,  y_train, y_test)\n",
    "\n",
    "folds = 5\n",
    "clf2, loss_arr_2, acc_arr_2 = logesticRegressionModel.train(folds)\n",
    "\n",
    "write_model('platform_os_Logestic_Reg_model', clf2)\n"
   ]
  },
  {
   "cell_type": "code",
   "execution_count": null,
   "id": "bf9c70ee",
   "metadata": {},
   "outputs": [],
   "source": [
    "test_acc2, test_loss2, report2, matrix2  = logesticRegressionModel.test()"
   ]
  },
  {
   "cell_type": "code",
   "execution_count": null,
   "id": "ed4880b5",
   "metadata": {},
   "outputs": [],
   "source": [
    "p_values_df = logesticRegressionModel.get_p_values()\n",
    "p_value_fig = logesticRegressionModel.plot_pvalues(p_values_df)\n",
    "p_values_df"
   ]
  },
  {
   "cell_type": "code",
   "execution_count": null,
   "id": "81bc1d0f",
   "metadata": {},
   "outputs": [],
   "source": [
    "mlflow.end_run()\n",
    "with mlflow.start_run(run_name=\"Platfrom-DF-Logestic-Reg\"):\n",
    "    mlflow.log_param('Features', X_train.columns.to_list())\n",
    "    mlflow.log_param('Target', y_train.columns.to_list())\n",
    "    mlflow.log_param('Number Of Training Dataset', X_train.shape[0])\n",
    "    mlflow.log_param('Number Of Test Dataset', X_test.shape[0])\n",
    "    mlflow.log_param('Fold number', folds)\n",
    "    \n",
    "    mlflow.log_metric('Validation Accuray', acc_arr_2[-1])\n",
    "    mlflow.log_metric('Validation Loss', acc_arr_2[-1])\n",
    "    mlflow.log_metric('Test accuracy', test_acc2)\n",
    "    mlflow.log_metric('Test Loss MSE', test_loss2)\n",
    "    \n",
    "    mlflow.log_figure(p_value_fig, 'fig.png')"
   ]
  },
  {
   "cell_type": "code",
   "execution_count": null,
   "id": "3574047d",
   "metadata": {},
   "outputs": [],
   "source": []
  },
  {
   "cell_type": "code",
   "execution_count": null,
   "id": "ba8c660f",
   "metadata": {},
   "outputs": [],
   "source": []
  },
  {
   "cell_type": "code",
   "execution_count": null,
   "id": "ce9570cc",
   "metadata": {},
   "outputs": [],
   "source": []
  },
  {
   "cell_type": "code",
   "execution_count": null,
   "id": "59840f7c",
   "metadata": {},
   "outputs": [],
   "source": []
  },
  {
   "cell_type": "code",
   "execution_count": null,
   "id": "f116be35",
   "metadata": {},
   "outputs": [],
   "source": []
  }
 ],
 "metadata": {
  "kernelspec": {
   "display_name": "Python 3",
   "language": "python",
   "name": "python3"
  },
  "language_info": {
   "codemirror_mode": {
    "name": "ipython",
    "version": 3
   },
   "file_extension": ".py",
   "mimetype": "text/x-python",
   "name": "python",
   "nbconvert_exporter": "python",
   "pygments_lexer": "ipython3",
   "version": "3.8.8"
  }
 },
 "nbformat": 4,
 "nbformat_minor": 5
}
