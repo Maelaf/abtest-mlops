{
 "cells": [
  {
   "cell_type": "code",
   "execution_count": null,
   "id": "be450bd5",
   "metadata": {},
   "outputs": [],
   "source": []
  },
  {
   "cell_type": "code",
   "execution_count": null,
   "id": "9c2665d0",
   "metadata": {},
   "outputs": [],
   "source": []
  },
  {
   "cell_type": "code",
   "execution_count": null,
   "id": "d9ce9fa4",
   "metadata": {},
   "outputs": [],
   "source": []
  },
  {
   "cell_type": "code",
   "execution_count": null,
   "id": "156fbdba",
   "metadata": {},
   "outputs": [],
   "source": []
  },
  {
   "cell_type": "code",
   "execution_count": null,
   "id": "1bc92eb5",
   "metadata": {},
   "outputs": [],
   "source": []
  },
  {
   "cell_type": "code",
   "execution_count": null,
   "id": "d78589d3",
   "metadata": {},
   "outputs": [],
   "source": []
  },
  {
   "cell_type": "code",
   "execution_count": null,
   "id": "3bf5aba4",
   "metadata": {},
   "outputs": [],
   "source": []
  },
  {
   "cell_type": "code",
   "execution_count": null,
   "id": "00bd45aa",
   "metadata": {},
   "outputs": [],
   "source": []
  },
  {
   "cell_type": "code",
   "execution_count": null,
   "id": "4e7177e8",
   "metadata": {},
   "outputs": [],
   "source": []
  },
  {
   "cell_type": "code",
   "execution_count": null,
   "id": "cc01cc7d",
   "metadata": {},
   "outputs": [],
   "source": []
  },
  {
   "cell_type": "code",
   "execution_count": null,
   "id": "928adbab",
   "metadata": {},
   "outputs": [],
   "source": [
    "import mlflow\n",
    "import datetime\n",
    "Current_Date = datetime.datetime.today()\n",
    "\n",
    "mlflow.set_experiment('ML_Approach_ABTEST-' + str(Current_Date))"
   ]
  },
  {
   "cell_type": "code",
   "execution_count": null,
   "id": "4f7997b2",
   "metadata": {},
   "outputs": [],
   "source": [
    "# feature_cols = [\"experiment\", \"hour\", \"date\", 'device_make', \"platform_os\",  \"browser\"]\n",
    "feature_cols = [\"experiment\", \"hour\", \"date\", 'device_make', 'browser']\n",
    "\n",
    "X = browser_df[feature_cols]\n",
    "y = browser_df[['aware']]\n",
    "\n",
    "test_size = 0.1\n",
    "\n",
    "X_train, X_test, y_train, y_test = train_test_split(X, y, test_size=test_size, random_state=42)"
   ]
  },
  {
   "cell_type": "code",
   "execution_count": null,
   "id": "1f8ba442",
   "metadata": {},
   "outputs": [],
   "source": [
    "\n",
    "decisionTreesModel = DecisionTreesModel(X_train, X_test,  y_train, y_test)\n",
    "\n",
    "folds = 5\n",
    "clf, acc_arr, loss_arr = decisionTreesModel.train(folds)\n",
    "\n",
    "write_model('browser_decision_tree_model', clf)"
   ]
  },
  {
   "cell_type": "code",
   "execution_count": null,
   "id": "7abccfb4",
   "metadata": {},
   "outputs": [],
   "source": [
    "\n",
    "test_acc, loss, report, confusion_matrix = decisionTreesModel.test()\n",
    "print(f\"Loss on test data is: {loss:.3f}\")\n",
    "print()\n"
   ]
  },
  {
   "cell_type": "code",
   "execution_count": null,
   "id": "b292c298",
   "metadata": {},
   "outputs": [],
   "source": [
    "decisionTreesModel.get_feature_importance()"
   ]
  },
  {
   "cell_type": "code",
   "execution_count": null,
   "id": "121d3be0",
   "metadata": {},
   "outputs": [],
   "source": [
    "\n",
    "test_acc, loss, report, confusion_matrix = decisionTreesModel.test()\n",
    "print(f\"Loss on test data is: {loss:.3f}\")\n",
    "print()\n"
   ]
  },
  {
   "cell_type": "code",
   "execution_count": null,
   "id": "4320a8c5",
   "metadata": {},
   "outputs": [],
   "source": [
    "decisionTreesModel.get_feature_importance()"
   ]
  },
  {
   "cell_type": "code",
   "execution_count": null,
   "id": "0dd13a3b",
   "metadata": {},
   "outputs": [],
   "source": [
    "dot_data = StringIO()\n",
    "\n",
    "leaves_parallel=False\n",
    "feature_cols = [\"experiment\", \"hour\", \"date\", 'device_make', 'browser']\n",
    "out_put_file = \"AbTestDecisionTree.dot\"\n",
    "\n",
    "dot_data = export_graphviz(clf, out_file=out_put_file,  \n",
    "                filled=True, rounded=True,\n",
    "                special_characters=True, feature_names = feature_cols,class_names=['Aware','Not Aware'])\n",
    "\n",
    "graph = pydotplus.graphviz.graph_from_dot_file(out_put_file)\n",
    "graph.write_png('AbTestDecisionTree.png')\n",
    "\n",
    "Image(graph.create_png())\n"
   ]
  },
  {
   "cell_type": "code",
   "execution_count": null,
   "id": "48d3647d",
   "metadata": {},
   "outputs": [],
   "source": [
    "mlflow.end_run()\n",
    "with mlflow.start_run(run_name=\"Browser-DF-DecisionTree\"):\n",
    "    mlflow.log_param('Features', X_train.columns.to_list())\n",
    "    mlflow.log_param('Target', y_train.columns.to_list())\n",
    "    mlflow.log_param('Number Of Training Dataset', X_train.shape[0])\n",
    "    mlflow.log_param('Number Of Test Dataset', X_test.shape[0])\n",
    "    mlflow.log_param('Fold number', folds)\n",
    "    \n",
    "    mlflow.log_metric('Validation Accuray', acc_arr[-1])\n",
    "    mlflow.log_metric('Validation Loss', loss_arr[-1])\n",
    "    mlflow.log_metric('Test accuracy', test_acc)\n",
    "    mlflow.log_metric('Test Loss MSE', loss)\n",
    "    \n",
    "#     mlflow.log_figure(\"../AbTestDecisionTree.png\", 'fig.png')"
   ]
  },
  {
   "cell_type": "code",
   "execution_count": null,
   "id": "e25a041d",
   "metadata": {},
   "outputs": [],
   "source": []
  },
  {
   "cell_type": "code",
   "execution_count": null,
   "id": "59fd99e1",
   "metadata": {},
   "outputs": [],
   "source": []
  },
  {
   "cell_type": "code",
   "execution_count": null,
   "id": "b70b10f7",
   "metadata": {},
   "outputs": [],
   "source": []
  },
  {
   "cell_type": "code",
   "execution_count": null,
   "id": "fc34a264",
   "metadata": {},
   "outputs": [],
   "source": []
  },
  {
   "cell_type": "code",
   "execution_count": null,
   "id": "ae75466e",
   "metadata": {},
   "outputs": [],
   "source": []
  },
  {
   "cell_type": "code",
   "execution_count": null,
   "id": "1172f56e",
   "metadata": {},
   "outputs": [],
   "source": []
  },
  {
   "cell_type": "code",
   "execution_count": null,
   "id": "8934de0a",
   "metadata": {},
   "outputs": [],
   "source": [
    "# feature_cols = [\"experiment\", \"hour\", \"date\", 'device_make', \"platform_os\",  \"browser\"]\n",
    "feature_cols = [\"experiment\", \"hour\", \"date\", 'device_make', 'platform_os']\n",
    "\n",
    "X = platform_df[feature_cols]\n",
    "y = platform_df[['aware']]\n",
    "\n",
    "test_size = 0.1\n",
    "\n",
    "X_train, X_test, y_train, y_test = train_test_split(X, y, test_size=test_size, random_state=42)"
   ]
  },
  {
   "cell_type": "code",
   "execution_count": null,
   "id": "43e23f3f",
   "metadata": {},
   "outputs": [],
   "source": [
    "decisionTreesModel = DecisionTreesModel(X_train, X_test,  y_train, y_test)\n",
    "\n",
    "folds = 5\n",
    "clf, acc_arr, loss_arr = decisionTreesModel.train(folds)\n",
    "\n",
    "write_model('platform_os_decision_tree_model', clf)"
   ]
  },
  {
   "cell_type": "code",
   "execution_count": null,
   "id": "784e31cc",
   "metadata": {},
   "outputs": [],
   "source": [
    "test_acc, loss, report, confusion_matrix = decisionTreesModel.test()\n",
    "print(f\"Loss on test data is: {loss:.3f}\")\n",
    "print()"
   ]
  },
  {
   "cell_type": "code",
   "execution_count": null,
   "id": "3e360f18",
   "metadata": {},
   "outputs": [],
   "source": [
    "decisionTreesModel.get_feature_importance()"
   ]
  },
  {
   "cell_type": "code",
   "execution_count": null,
   "id": "7199f018",
   "metadata": {},
   "outputs": [],
   "source": [
    "dot_data = StringIO()\n",
    "\n",
    "leaves_parallel=False\n",
    "feature_cols = [\"experiment\", \"hour\", \"date\", 'device_make', 'browser']\n",
    "out_put_file = \"AbTestDecisionTree.dot\"\n",
    "\n",
    "dot_data = export_graphviz(clf, out_file=out_put_file,  \n",
    "                filled=True, rounded=True,\n",
    "                special_characters=True, feature_names = feature_cols,class_names=['Aware','Not Aware'])\n",
    "\n",
    "graph = pydotplus.graphviz.graph_from_dot_file(out_put_file)\n",
    "graph.write_png('AbTestDecisionTree.png')\n",
    "Image(graph.create_png())"
   ]
  },
  {
   "cell_type": "code",
   "execution_count": null,
   "id": "580cb406",
   "metadata": {},
   "outputs": [],
   "source": [
    "mlflow.end_run()\n",
    "with mlflow.start_run(run_name=\"Platform-DF-DecisionTree\"):\n",
    "    mlflow.log_param('Features', X_train.columns.to_list())\n",
    "    mlflow.log_param('Target', y_train.columns.to_list())\n",
    "    mlflow.log_param('Number Of Training Dataset', X_train.shape[0])\n",
    "    mlflow.log_param('Number Of Test Dataset', X_test.shape[0])\n",
    "    mlflow.log_param('Fold number', folds)\n",
    "    \n",
    "    mlflow.log_metric('Validation Accuray', acc_arr[-1])\n",
    "    mlflow.log_metric('Validation Loss', loss_arr[-1])\n",
    "    mlflow.log_metric('Test accuracy', test_acc)\n",
    "    mlflow.log_metric('Test Loss MSE', loss)\n",
    "    \n",
    "#     mlflow.log_figure(graph.create_png(), 'fig.png')"
   ]
  },
  {
   "cell_type": "code",
   "execution_count": null,
   "id": "180dfc94",
   "metadata": {},
   "outputs": [],
   "source": [
    "class LogesticRegressionModel:\n",
    "    \n",
    "    def __init__(self, X_train, X_test, y_train, y_test, model_name=\"LR\"):\n",
    "        \n",
    "        self.X_train = X_train\n",
    "        self.X_test = X_test\n",
    "        self.y_train = y_train\n",
    "        self.y_test = y_test\n",
    "        self.model_name = model_name\n",
    "        \n",
    "        self.clf = LogisticRegression()\n",
    "        \n",
    "    def train(self, folds=1):\n",
    "        \n",
    "        kf = KFold(n_splits = folds)\n",
    "        \n",
    "        iterator = kf.split(self.X_train)\n",
    "        \n",
    "        loss_arr = []\n",
    "        acc_arr = []\n",
    "        model_name= self.model_name\n",
    "        mlflow.end_run()\n",
    "        for i in range(folds):\n",
    "\n",
    "            train_index, valid_index = next(iterator)\n",
    "\n",
    "            X_train, y_train = self.X_train.iloc[train_index], self.y_train.iloc[train_index]\n",
    "            X_valid, y_valid = self.X_train.iloc[valid_index], self.y_train.iloc[valid_index]\n",
    "\n",
    "            self.clf = self.clf.fit(X_train, y_train)\n",
    "\n",
    "            vali_pred = self.clf.predict(X_valid)\n",
    "\n",
    "            accuracy = self.calculate_score(y_valid, vali_pred)\n",
    "            loss = loss_function(y_valid, vali_pred)\n",
    "\n",
    "            self.__printAccuracy(accuracy, i, label=\"Validation\")\n",
    "            self.__printLoss(loss, i, label=\"Validation\")\n",
    "            print()\n",
    "\n",
    "            acc_arr.append(accuracy)\n",
    "            loss_arr.append(loss)\n",
    "            \n",
    "        return self.clf, acc_arr, loss_arr\n",
    "    \n",
    "    def test(self):\n",
    "        y_pred = self.clf.predict(self.X_test)\n",
    "        \n",
    "        accuracy = self.calculate_score(self.y_test, y_pred)\n",
    "        self.__printAccuracy(accuracy, label=\"Test\")\n",
    "        \n",
    "        report = self.report(y_pred, self.y_test)\n",
    "        matrix = self.confusion_matrix(y_pred, self.y_test)\n",
    "        loss = loss_function(self.y_test, y_pred)\n",
    "        \n",
    "        return accuracy, loss, report, matrix \n",
    "    \n",
    "    def __printAccuracy(self, acc, step=1, label=\"\"):\n",
    "        print(f\"step {step}: {label} Accuracy of LogesticRegression is: {acc:.3f}\")\n",
    "    \n",
    "    def __printLoss(self, loss, step=1, label=\"\"):\n",
    "        print(f\"step {step}: {label} Loss of LogesticRegression is: {loss:.3f}\")\n",
    "    \n",
    "    def calculate_score(self, pred, actual):\n",
    "        return metrics.accuracy_score(actual, pred)\n",
    "    \n",
    "    def report(self, pred, actual):\n",
    "        print(\"Test Metrics\")\n",
    "        print(\"================\")\n",
    "        print(metrics.classification_report(pred, actual))\n",
    "        return metrics.classification_report(pred, actual)\n",
    "    \n",
    "    def confusion_matrix(self, pred, actual):\n",
    "        ax=sns.heatmap(pd.DataFrame(metrics.confusion_matrix(pred, actual)))\n",
    "        plt.title('Confusion matrix')\n",
    "        plt.ylabel('Actual')\n",
    "        plt.xlabel('Predicted')\n",
    "        return metrics.confusion_matrix(pred, actual)\n",
    "    \n",
    "    def get_p_values(self):\n",
    "        \"\"\" \n",
    "        Calcualting p_values for logestic regression.\n",
    "        code refered from the following link\n",
    "        https://gist.github.com/rspeare/77061e6e317896be29c6de9a85db301d\n",
    "        \n",
    "        \"\"\"\n",
    "        denom = (2.0*(1.0+np.cosh(self.clf.decision_function(X))))\n",
    "        denom = np.tile(denom,(X.shape[1],1)).T\n",
    "        F_ij = np.dot((X/denom).T,X) ## Fisher Information Matrix\n",
    "        Cramer_Rao = np.linalg.inv(F_ij) ## Inverse Information Matrix\n",
    "        sigma_estimates = np.sqrt(np.diagonal(Cramer_Rao))\n",
    "        z_scores = self.clf.coef_[0]/sigma_estimates # z-score \n",
    "        p_values = [stat.norm.sf(abs(x)) for x in z_scores] ### two tailed test for p-values\n",
    "        \n",
    "        p_df = pd.DataFrame()\n",
    "        p_df['features'] = self.X_train.columns.to_list()\n",
    "        p_df['p_values'] = p_values\n",
    "        \n",
    "        return p_df\n",
    "    \n",
    "    def plot_pvalues(self, p_df):\n",
    "        \n",
    "        fig, ax = plt.subplots(figsize=(12,7))\n",
    "\n",
    "        ax.plot([0.05,0.05], [0.05,5])\n",
    "        sns.scatterplot(data=p_df, y='features', x='p_values', color=\"green\")\n",
    "        plt.title(\"P values of features\", size=20)\n",
    "\n",
    "        plt.xticks(np.arange(0,max(p_df['p_values']) + 0.05, 0.05))\n",
    "\n",
    "        plt.xticks(fontsize=12)\n",
    "        plt.yticks(fontsize=12)\n",
    "\n",
    "        plt.show()\n",
    "        return fig"
   ]
  },
  {
   "cell_type": "code",
   "execution_count": null,
   "id": "01842f77",
   "metadata": {},
   "outputs": [],
   "source": []
  },
  {
   "cell_type": "code",
   "execution_count": null,
   "id": "dfdc2874",
   "metadata": {},
   "outputs": [],
   "source": []
  },
  {
   "cell_type": "code",
   "execution_count": null,
   "id": "093fccfa",
   "metadata": {},
   "outputs": [],
   "source": []
  },
  {
   "cell_type": "code",
   "execution_count": null,
   "id": "7ae0a03a",
   "metadata": {},
   "outputs": [],
   "source": []
  },
  {
   "cell_type": "code",
   "execution_count": null,
   "id": "2cc03623",
   "metadata": {},
   "outputs": [],
   "source": []
  },
  {
   "cell_type": "code",
   "execution_count": null,
   "id": "a4e5fcb6",
   "metadata": {},
   "outputs": [],
   "source": []
  },
  {
   "cell_type": "code",
   "execution_count": null,
   "id": "aaabb1c4",
   "metadata": {},
   "outputs": [],
   "source": []
  },
  {
   "cell_type": "code",
   "execution_count": null,
   "id": "ac125a3c",
   "metadata": {},
   "outputs": [],
   "source": []
  },
  {
   "cell_type": "code",
   "execution_count": null,
   "id": "212e2478",
   "metadata": {},
   "outputs": [],
   "source": []
  },
  {
   "cell_type": "code",
   "execution_count": null,
   "id": "b3fac0f3",
   "metadata": {},
   "outputs": [],
   "source": []
  },
  {
   "cell_type": "code",
   "execution_count": null,
   "id": "25692901",
   "metadata": {},
   "outputs": [],
   "source": []
  },
  {
   "cell_type": "code",
   "execution_count": null,
   "id": "0e83d3c5",
   "metadata": {},
   "outputs": [],
   "source": []
  },
  {
   "cell_type": "code",
   "execution_count": null,
   "id": "933a4be3",
   "metadata": {},
   "outputs": [],
   "source": []
  },
  {
   "cell_type": "code",
   "execution_count": null,
   "id": "9e575c3b",
   "metadata": {},
   "outputs": [],
   "source": []
  },
  {
   "cell_type": "code",
   "execution_count": null,
   "id": "209a473e",
   "metadata": {},
   "outputs": [],
   "source": []
  },
  {
   "cell_type": "code",
   "execution_count": null,
   "id": "0e89406f",
   "metadata": {},
   "outputs": [],
   "source": []
  },
  {
   "cell_type": "code",
   "execution_count": null,
   "id": "41f12761",
   "metadata": {},
   "outputs": [],
   "source": []
  },
  {
   "cell_type": "code",
   "execution_count": null,
   "id": "13a7df85",
   "metadata": {},
   "outputs": [],
   "source": [
    "feature_cols = [\"experiment\", \"hour\", \"date\", 'device_make', 'browser']\n",
    "\n",
    "X = browser_df[feature_cols]\n",
    "y = browser_df[['aware']]\n",
    "\n",
    "test_size = 0.1\n",
    "\n",
    "X_train, X_test, y_train, y_test = train_test_split(X, y, test_size=test_size, random_state=42)"
   ]
  },
  {
   "cell_type": "code",
   "execution_count": null,
   "id": "0e1e3ef5",
   "metadata": {},
   "outputs": [],
   "source": [
    "logesticRegressionModel = LogesticRegressionModel(X_train, X_test,  y_train, y_test)\n",
    "\n",
    "folds = 5\n",
    "clf2, loss_arr_2, acc_arr_2 = logesticRegressionModel.train(folds)\n",
    "\n",
    "write_model('browser_Logestic_Reg_model', clf2)\n"
   ]
  },
  {
   "cell_type": "code",
   "execution_count": null,
   "id": "a4989482",
   "metadata": {},
   "outputs": [],
   "source": [
    "test_acc2, test_loss2, report2, matrix2  = logesticRegressionModel.test()"
   ]
  },
  {
   "cell_type": "code",
   "execution_count": null,
   "id": "5127e841",
   "metadata": {},
   "outputs": [],
   "source": [
    "\n",
    "p_values_df = logesticRegressionModel.get_p_values()\n",
    "p_value_fig = logesticRegressionModel.plot_pvalues(p_values_df)\n",
    "p_values_df\n"
   ]
  },
  {
   "cell_type": "code",
   "execution_count": null,
   "id": "a592aafe",
   "metadata": {},
   "outputs": [],
   "source": [
    "\n",
    "mlflow.end_run()\n",
    "with mlflow.start_run(run_name=\"Browser-DF-Logestic-Reg\"):\n",
    "    mlflow.log_param('Features', X_train.columns.to_list())\n",
    "    mlflow.log_param('Target', y_train.columns.to_list())\n",
    "    mlflow.log_param('Number Of Training Dataset', X_train.shape[0])\n",
    "    mlflow.log_param('Number Of Test Dataset', X_test.shape[0])\n",
    "    mlflow.log_param('Fold number', folds)\n",
    "    \n",
    "    mlflow.log_metric('Validation Accuray', acc_arr_2[-1])\n",
    "    mlflow.log_metric('Validation Loss', acc_arr_2[-1])\n",
    "    mlflow.log_metric('Test accuracy', test_acc2)\n",
    "    mlflow.log_metric('Test Loss MSE', test_loss2)\n",
    "    \n",
    "    mlflow.log_figure(p_value_fig, 'fig.png')\n",
    "\n",
    "\n",
    "    "
   ]
  },
  {
   "cell_type": "code",
   "execution_count": null,
   "id": "2d39fd72",
   "metadata": {},
   "outputs": [],
   "source": [
    "feature_cols = [\"experiment\", \"hour\", \"date\", 'device_make', 'platform_os']\n",
    "\n",
    "X = platform_df[feature_cols]\n",
    "y = platform_df[['aware']]\n",
    "\n",
    "test_size = 0.1\n",
    "\n",
    "X_train, X_test, y_train, y_test = train_test_split(X, y, test_size=test_size, random_state=42)"
   ]
  },
  {
   "cell_type": "code",
   "execution_count": null,
   "id": "7698a65e",
   "metadata": {},
   "outputs": [],
   "source": [
    "logesticRegressionModel = LogesticRegressionModel(X_train, X_test,  y_train, y_test)\n",
    "\n",
    "folds = 5\n",
    "clf2, loss_arr_2, acc_arr_2 = logesticRegressionModel.train(folds)\n",
    "\n",
    "write_model('platform_os_Logestic_Reg_model', clf2)\n"
   ]
  },
  {
   "cell_type": "code",
   "execution_count": null,
   "id": "e6285637",
   "metadata": {},
   "outputs": [],
   "source": [
    "test_acc2, test_loss2, report2, matrix2  = logesticRegressionModel.test()"
   ]
  },
  {
   "cell_type": "code",
   "execution_count": null,
   "id": "9f338c9d",
   "metadata": {},
   "outputs": [],
   "source": [
    "p_values_df = logesticRegressionModel.get_p_values()\n",
    "p_value_fig = logesticRegressionModel.plot_pvalues(p_values_df)\n",
    "p_values_df"
   ]
  },
  {
   "cell_type": "code",
   "execution_count": null,
   "id": "1e2882ec",
   "metadata": {},
   "outputs": [],
   "source": [
    "mlflow.end_run()\n",
    "with mlflow.start_run(run_name=\"Platfrom-DF-Logestic-Reg\"):\n",
    "    mlflow.log_param('Features', X_train.columns.to_list())\n",
    "    mlflow.log_param('Target', y_train.columns.to_list())\n",
    "    mlflow.log_param('Number Of Training Dataset', X_train.shape[0])\n",
    "    mlflow.log_param('Number Of Test Dataset', X_test.shape[0])\n",
    "    mlflow.log_param('Fold number', folds)\n",
    "    \n",
    "    mlflow.log_metric('Validation Accuray', acc_arr_2[-1])\n",
    "    mlflow.log_metric('Validation Loss', acc_arr_2[-1])\n",
    "    mlflow.log_metric('Test accuracy', test_acc2)\n",
    "    mlflow.log_metric('Test Loss MSE', test_loss2)\n",
    "    \n",
    "    mlflow.log_figure(p_value_fig, 'fig.png')"
   ]
  },
  {
   "cell_type": "code",
   "execution_count": null,
   "id": "6ef26a13",
   "metadata": {},
   "outputs": [],
   "source": []
  },
  {
   "cell_type": "code",
   "execution_count": null,
   "id": "a87a8bbb",
   "metadata": {},
   "outputs": [],
   "source": []
  },
  {
   "cell_type": "code",
   "execution_count": null,
   "id": "13ffa499",
   "metadata": {},
   "outputs": [],
   "source": []
  },
  {
   "cell_type": "code",
   "execution_count": null,
   "id": "4f922aa1",
   "metadata": {},
   "outputs": [],
   "source": []
  },
  {
   "cell_type": "code",
   "execution_count": null,
   "id": "2c733678",
   "metadata": {},
   "outputs": [],
   "source": []
  }
 ],
 "metadata": {
  "kernelspec": {
   "display_name": "Python 3",
   "language": "python",
   "name": "python3"
  },
  "language_info": {
   "codemirror_mode": {
    "name": "ipython",
    "version": 3
   },
   "file_extension": ".py",
   "mimetype": "text/x-python",
   "name": "python",
   "nbconvert_exporter": "python",
   "pygments_lexer": "ipython3",
   "version": "3.8.8"
  }
 },
 "nbformat": 4,
 "nbformat_minor": 5
}
